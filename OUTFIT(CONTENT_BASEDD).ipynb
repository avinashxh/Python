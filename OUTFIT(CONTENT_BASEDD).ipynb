{
  "nbformat": 4,
  "nbformat_minor": 0,
  "metadata": {
    "colab": {
      "provenance": [],
      "authorship_tag": "ABX9TyN9I9jqNpbYiBaujzrguUsy",
      "include_colab_link": true
    },
    "kernelspec": {
      "name": "python3",
      "display_name": "Python 3"
    },
    "language_info": {
      "name": "python"
    }
  },
  "cells": [
    {
      "cell_type": "markdown",
      "metadata": {
        "id": "view-in-github",
        "colab_type": "text"
      },
      "source": [
        "<a href=\"https://colab.research.google.com/github/avinashxh/Python/blob/master/OUTFIT(CONTENT_BASEDD).ipynb\" target=\"_parent\"><img src=\"https://colab.research.google.com/assets/colab-badge.svg\" alt=\"Open In Colab\"/></a>"
      ]
    },
    {
      "cell_type": "code",
      "source": [
        "pip install scikit-surprise"
      ],
      "metadata": {
        "colab": {
          "base_uri": "https://localhost:8080/"
        },
        "id": "YEAFtJMP_lJY",
        "outputId": "1447a39b-d386-4c42-d6a1-6983e711e120"
      },
      "execution_count": null,
      "outputs": [
        {
          "output_type": "stream",
          "name": "stdout",
          "text": [
            "Collecting scikit-surprise\n",
            "  Downloading scikit-surprise-1.1.3.tar.gz (771 kB)\n",
            "\u001b[2K     \u001b[90m━━━━━━━━━━━━━━━━━━━━━━━━━━━━━━━━━━━━━━━━\u001b[0m \u001b[32m772.0/772.0 kB\u001b[0m \u001b[31m9.6 MB/s\u001b[0m eta \u001b[36m0:00:00\u001b[0m\n",
            "\u001b[?25h  Preparing metadata (setup.py) ... \u001b[?25l\u001b[?25hdone\n",
            "Requirement already satisfied: joblib>=1.0.0 in /usr/local/lib/python3.10/dist-packages (from scikit-surprise) (1.3.2)\n",
            "Requirement already satisfied: numpy>=1.17.3 in /usr/local/lib/python3.10/dist-packages (from scikit-surprise) (1.23.5)\n",
            "Requirement already satisfied: scipy>=1.3.2 in /usr/local/lib/python3.10/dist-packages (from scikit-surprise) (1.11.3)\n",
            "Building wheels for collected packages: scikit-surprise\n",
            "  Building wheel for scikit-surprise (setup.py) ... \u001b[?25l\u001b[?25hdone\n",
            "  Created wheel for scikit-surprise: filename=scikit_surprise-1.1.3-cp310-cp310-linux_x86_64.whl size=3163484 sha256=a5be1fc2a97bf4840620998f31ea727fbd739666139c940de997f8ce75bcf1eb\n",
            "  Stored in directory: /root/.cache/pip/wheels/a5/ca/a8/4e28def53797fdc4363ca4af740db15a9c2f1595ebc51fb445\n",
            "Successfully built scikit-surprise\n",
            "Installing collected packages: scikit-surprise\n",
            "Successfully installed scikit-surprise-1.1.3\n"
          ]
        }
      ]
    },
    {
      "cell_type": "code",
      "execution_count": null,
      "metadata": {
        "id": "MfyTGDbgidff"
      },
      "outputs": [],
      "source": [
        "import pandas as pd\n",
        "\n",
        "from surprise import Dataset, Reader\n",
        "from surprise.model_selection import train_test_split\n",
        "from surprise import KNNBasic\n",
        "from surprise import accuracy\n",
        "from sklearn.feature_extraction.text import TfidfVectorizer\n",
        "from sklearn.metrics.pairwise import linear_kernel"
      ]
    },
    {
      "cell_type": "code",
      "source": [
        "df = pd.read_csv(\"/content/outfitdatasetexcel2.csv\")"
      ],
      "metadata": {
        "id": "0qBTfGw1jOS0"
      },
      "execution_count": null,
      "outputs": []
    },
    {
      "cell_type": "code",
      "source": [
        "## Standardize occasion names\n",
        "occasion_map ={'Casual':'casual','Party':'party','Formal':'formal'}\n",
        "df['occasion'] = df['occasion'].map(occasion_map)\n",
        "\n",
        "## Standardize colors\n",
        "colors = {'Red':'red','Blue':'blue','Green':'green','White':'white','Black':'black'}\n",
        "df['color'] = df['color'].map(colors)"
      ],
      "metadata": {
        "id": "G8J0yfLeuqtj"
      },
      "execution_count": null,
      "outputs": []
    },
    {
      "cell_type": "code",
      "source": [
        "'''# Get user input\n",
        "gender = input(\"Enter gender (Male/Female): \")\n",
        "color = input(\"Enter color: \")\n",
        "occasion = input(\"Enter occasion (Casual/Party/Formal): \")\n",
        "\n",
        "# Filter dataset based on user input\n",
        "filtered_df = df[(df['gender'] == gender) &\n",
        "                 (df['color'] == color) &\n",
        "                 (df['occasion'] == occasion)]\n",
        "\n",
        "# Print occasion description and outfit links for matches\n",
        "if len(filtered_df) > 0:\n",
        "    print(filtered_df['outfit_description'].values[0])\n",
        "    print(filtered_df['Outfits_url'].values[0])\n",
        "else:\n",
        "    print(\"No matching outfits found\")'''"
      ],
      "metadata": {
        "colab": {
          "base_uri": "https://localhost:8080/"
        },
        "id": "Fes7ZeDu7JZr",
        "outputId": "9f40c9f8-88f7-4778-c568-5ba19364ea00"
      },
      "execution_count": null,
      "outputs": [
        {
          "output_type": "stream",
          "name": "stdout",
          "text": [
            "Enter gender (Male/Female): male\n",
            "Enter color: black\n",
            "Enter occasion (Casual/Party/Formal): party\n",
            "No matching outfits found\n"
          ]
        }
      ]
    },
    {
      "cell_type": "code",
      "source": [
        "# Content-based filtering\n",
        "\n",
        "# Get user input\n",
        "gender = input(\"Enter gender (Male/Female): \").strip().lower()\n",
        "color = input(\"Enter color: \").strip().lower()\n",
        "occasion = input(\"Enter occasion (Casual/Party/Formal): \").strip().lower()\n",
        "\n",
        "# Clean up column names\n",
        "df.columns = df.columns.str.strip().str.lower().str.replace(' ', '_').str.replace(':', '')\n",
        "\n",
        "# Convert DataFrame values to lowercase\n",
        "df['gender'] = df['gender'].str.lower()\n",
        "df['color'] = df['color'].str.lower()\n",
        "df['occasion'] = df['occasion'].str.lower()\n",
        "\n",
        "# Filter dataset based on user input\n",
        "filtered_df = df[(df['gender'] == gender) &\n",
        "                 (df['color'] == color) &\n",
        "                 (df['occasion'] == occasion)]\n",
        "\n",
        "if not filtered_df.empty:\n",
        "    print(filtered_df['outfit_description'].values[0])\n",
        "    print(filtered_df['outfits_url'].values[0])\n",
        "else:\n",
        "    print(\"No matching outfits found\")\n"
      ],
      "metadata": {
        "colab": {
          "base_uri": "https://localhost:8080/"
        },
        "id": "QPvD6YFMvNYz",
        "outputId": "c843e23b-a4fc-4e04-8de8-17732b35651e"
      },
      "execution_count": null,
      "outputs": [
        {
          "output_type": "stream",
          "name": "stdout",
          "text": [
            "Enter gender (Male/Female): male\n",
            "Enter color: black\n",
            "Enter occasion (Casual/Party/Formal): party\n",
            "Party Black Suit for Males\n",
            "https://www.etsy.com/in-en/listing/1117913797/bespoke-suit-man-black-2-piece-suit-prom\n"
          ]
        }
      ]
    },
    {
      "cell_type": "code",
      "source": [
        "# Content-based filtering\n",
        "\n",
        "# Get user input\n",
        "gender = input(\"Enter gender (Male/Female): \").strip().lower()\n",
        "color = input(\"Enter color: \").strip().lower()\n",
        "occasion = input(\"Enter occasion (Casual/Party/Formal): \").strip().lower()\n",
        "\n",
        "# Clean up column names\n",
        "df.columns = df.columns.str.strip().str.lower().str.replace(' ', '_').str.replace(':', '')\n",
        "\n",
        "# Convert DataFrame values to lowercase\n",
        "df['gender'] = df['gender'].str.lower()\n",
        "df['color'] = df['color'].str.lower()\n",
        "df['occasion'] = df['occasion'].str.lower()\n",
        "\n",
        "# Filter dataset based on user input\n",
        "filtered_df = df[(df['gender'] == gender) &\n",
        "                 (df['color'] == color) &\n",
        "                 (df['occasion'] == occasion)]\n",
        "\n",
        "if not filtered_df.empty:\n",
        "    print(filtered_df['outfit_description'].values[0])\n",
        "    print(filtered_df['outfits_url'].values[0])\n",
        "else:\n",
        "    print(\"No matching outfits found\")\n"
      ],
      "metadata": {
        "colab": {
          "base_uri": "https://localhost:8080/"
        },
        "id": "8z2YSKwXwB4k",
        "outputId": "70ed78af-09f3-4c7b-a843-15a88f566634"
      },
      "execution_count": null,
      "outputs": [
        {
          "output_type": "stream",
          "name": "stdout",
          "text": [
            "Enter gender (Male/Female): female\n",
            "Enter color: white\n",
            "Enter occasion (Casual/Party/Formal): casual\n",
            "Casual White Dress for Females\n",
            "https://www.myntra.com/white-lace-dresses\n"
          ]
        }
      ]
    },
    {
      "cell_type": "code",
      "source": [
        "# Content-based filtering\n",
        "\n",
        "# Get user input\n",
        "gender = input(\"Enter gender (Male/Female): \").strip().lower()\n",
        "color = input(\"Enter color: \").strip().lower()\n",
        "occasion = input(\"Enter occasion (Casual/Party/Formal): \").strip().lower()\n",
        "\n",
        "# Clean up column names\n",
        "df.columns = df.columns.str.strip().str.lower().str.replace(' ', '_').str.replace(':', '')\n",
        "\n",
        "# Convert DataFrame values to lowercase\n",
        "df['gender'] = df['gender'].str.lower()\n",
        "df['color'] = df['color'].str.lower()\n",
        "df['occasion'] = df['occasion'].str.lower()\n",
        "\n",
        "# Filter dataset based on user input\n",
        "filtered_df = df[(df['gender'] == gender) &\n",
        "                 (df['color'] == color) &\n",
        "                 (df['occasion'] == occasion)]\n",
        "\n",
        "if not filtered_df.empty:\n",
        "    print(filtered_df['outfit_description'].values[0])\n",
        "    print(filtered_df['outfits_url'].values[0])\n",
        "else:\n",
        "    print(\"No matching outfits found\")\n"
      ],
      "metadata": {
        "colab": {
          "base_uri": "https://localhost:8080/"
        },
        "id": "6EW-XIlYwCMK",
        "outputId": "d8db2d46-000e-4394-9757-ad9c5613dbe2"
      },
      "execution_count": null,
      "outputs": [
        {
          "output_type": "stream",
          "name": "stdout",
          "text": [
            "Enter gender (Male/Female): female\n",
            "Enter color: white\n",
            "Enter occasion (Casual/Party/Formal): casual\n",
            "Casual White Dress for Females\n",
            "https://www.myntra.com/white-lace-dresses\n"
          ]
        }
      ]
    },
    {
      "cell_type": "code",
      "source": [],
      "metadata": {
        "id": "Yqlc_G8LwPkj"
      },
      "execution_count": null,
      "outputs": []
    }
  ]
}